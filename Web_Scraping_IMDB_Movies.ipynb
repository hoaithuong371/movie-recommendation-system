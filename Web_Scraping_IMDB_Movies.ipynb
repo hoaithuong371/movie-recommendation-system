{
 "cells": [
  {
   "cell_type": "markdown",
   "id": "1987f33f",
   "metadata": {},
   "source": [
    "## Scraping movies from IMDB Top 1000"
   ]
  },
  {
   "cell_type": "code",
   "execution_count": 8,
   "id": "2acc07b8",
   "metadata": {},
   "outputs": [],
   "source": [
    "import requests\n",
    "from bs4 import BeautifulSoup\n",
    "import pandas as pd\n",
    "import numpy as np\n",
    "import time"
   ]
  },
  {
   "cell_type": "code",
   "execution_count": 9,
   "id": "4f4395b2",
   "metadata": {},
   "outputs": [],
   "source": [
    "headers = {'Accept-Language': 'en-US, en;q=0.5'}"
   ]
  },
  {
   "cell_type": "code",
   "execution_count": 10,
   "id": "61fef824",
   "metadata": {},
   "outputs": [
    {
     "data": {
      "text/plain": [
       "['https://www.imdb.com/search/title/?groups=top_1000&sort=user_rating,desc',\n",
       " 'https://www.imdb.com/search/title/?groups=top_1000&sort=user_rating,desc&count=100&start=101&ref_=adv_nxt',\n",
       " 'https://www.imdb.com/search/title/?groups=top_1000&sort=user_rating,desc&count=100&start=201&ref_=adv_nxt',\n",
       " 'https://www.imdb.com/search/title/?groups=top_1000&sort=user_rating,desc&count=100&start=301&ref_=adv_nxt',\n",
       " 'https://www.imdb.com/search/title/?groups=top_1000&sort=user_rating,desc&count=100&start=401&ref_=adv_nxt',\n",
       " 'https://www.imdb.com/search/title/?groups=top_1000&sort=user_rating,desc&count=100&start=501&ref_=adv_nxt',\n",
       " 'https://www.imdb.com/search/title/?groups=top_1000&sort=user_rating,desc&count=100&start=601&ref_=adv_nxt',\n",
       " 'https://www.imdb.com/search/title/?groups=top_1000&sort=user_rating,desc&count=100&start=701&ref_=adv_nxt',\n",
       " 'https://www.imdb.com/search/title/?groups=top_1000&sort=user_rating,desc&count=100&start=801&ref_=adv_nxt',\n",
       " 'https://www.imdb.com/search/title/?groups=top_1000&sort=user_rating,desc&count=100&start=901&ref_=adv_nxt']"
      ]
     },
     "execution_count": 10,
     "metadata": {},
     "output_type": "execute_result"
    }
   ],
   "source": [
    "url_list = ['https://www.imdb.com/search/title/?groups=top_1000&sort=user_rating,desc']\n",
    "\n",
    "for i in range(101, 1001, 100):\n",
    "    url = 'https://www.imdb.com/search/title/?groups=top_1000&sort=user_rating,desc&count=100&start={}&ref_=adv_nxt'\n",
    "    formated_url = url.format(str(i))\n",
    "    url_list.append(formated_url)\n",
    "url_list"
   ]
  },
  {
   "cell_type": "code",
   "execution_count": 11,
   "id": "4057b5eb",
   "metadata": {
    "scrolled": false
   },
   "outputs": [],
   "source": [
    "def get_movies_from_url(url, data):\n",
    "    \n",
    "    html_text = requests.get(url, headers = headers).text\n",
    "    soup = BeautifulSoup(html_text, 'lxml')\n",
    "    movies = soup.find_all('div', class_ = 'lister-item mode-advanced') \n",
    "    \n",
    "    for movie in movies:\n",
    "        \n",
    "        link_imdb = 'https://www.imdb.com' + movie.find('h3', class_ = 'lister-item-header').a['href']\n",
    "        \n",
    "        link_poster = movie.find('div', class_ = 'lister-item-image float-left').a.img['loadlate']\n",
    "        \n",
    "        title = movie.find('h3', class_ = 'lister-item-header').a.text\n",
    "        \n",
    "        year = movie.find('span', class_ = 'lister-item-year text-muted unbold').text\n",
    "        \n",
    "        certificate = movie.find('span', class_ = 'certificate').text.strip() if movie.find('span', class_ = 'certificate') else None\n",
    "        \n",
    "        runtime = movie.find('span', class_ = 'runtime').text.strip() \n",
    "        \n",
    "        genre = movie.find('span', class_ = 'genre').text.strip()\n",
    "        \n",
    "        rating = movie.find('div',class_= 'inline-block ratings-imdb-rating').strong.text\n",
    "        \n",
    "        meta_score = movie.find('span', class_ = 'metascore favorable').text.strip() if movie.find('span', class_ = 'metascore favorable') else None\n",
    "        \n",
    "        overview = movie.find_all('p', class_= 'text-muted')[1].text.strip()\n",
    "        \n",
    "        ds = movie.find('p', class_ = '').find_all('a')\n",
    "        director = ds[0].text\n",
    "        star_1 = ds[1].text\n",
    "        star_2 = ds[2].text\n",
    "        star_3 = ds[3].text\n",
    "        star_4 = ds[4].text\n",
    "        \n",
    "        nv = movie.find_all('span', attrs={'name':'nv'})\n",
    "        vote = nv[0].text\n",
    "        gross = nv[1].text if (len(nv) > 1) and (nv[1].text[0] != '#') else None  \n",
    "        \n",
    "        data.append([link_imdb, link_poster, title, year, certificate, \n",
    "                     runtime, genre, rating, meta_score, overview, \n",
    "                     director, star_1, star_2, star_3, star_4, vote, gross])"
   ]
  },
  {
   "cell_type": "code",
   "execution_count": 12,
   "id": "27f66e1a",
   "metadata": {},
   "outputs": [],
   "source": [
    "data = []\n",
    "for url in url_list:\n",
    "    time.sleep(3)\n",
    "    get_movies_from_url(url, data)"
   ]
  },
  {
   "cell_type": "code",
   "execution_count": 13,
   "id": "2a46e83e",
   "metadata": {},
   "outputs": [],
   "source": [
    "df = pd.DataFrame(data, columns= [\"link_imdb\", \"link_poster\", \"title\", \"year\", \"certificate\"\n",
    "                                  , \"runtime\", \"genre\", \"rating\", \"meta_score\", \"overview\"\n",
    "                                  , \"director\",\"star_1\", \"star_2\", \"star_3\", \"star_4\", \"vote\", \"gross\"])"
   ]
  },
  {
   "cell_type": "code",
   "execution_count": 14,
   "id": "2b3b953f",
   "metadata": {},
   "outputs": [],
   "source": [
    "df.to_csv('imdb_top_1000_movies.csv', index = False)"
   ]
  }
 ],
 "metadata": {
  "kernelspec": {
   "display_name": "base",
   "language": "python",
   "name": "python3"
  },
  "language_info": {
   "codemirror_mode": {
    "name": "ipython",
    "version": 3
   },
   "file_extension": ".py",
   "mimetype": "text/x-python",
   "name": "python",
   "nbconvert_exporter": "python",
   "pygments_lexer": "ipython3",
   "version": "3.9.13"
  },
  "vscode": {
   "interpreter": {
    "hash": "e8883ef670902a8651077fec755c10723da1b10eaf597ba235c446b5ccac5dfc"
   }
  }
 },
 "nbformat": 4,
 "nbformat_minor": 5
}
